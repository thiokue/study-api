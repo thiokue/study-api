{
 "cells": [
  {
   "cell_type": "code",
   "execution_count": 1,
   "metadata": {},
   "outputs": [],
   "source": [
    "import pandas as pd\n",
    "from db import get_all_data"
   ]
  },
  {
   "cell_type": "code",
   "execution_count": 3,
   "metadata": {},
   "outputs": [
    {
     "name": "stderr",
     "output_type": "stream",
     "text": [
      "\u001b[32m2023-05-14 16:05:15.604\u001b[0m | \u001b[1mINFO    \u001b[0m | \u001b[36mdb\u001b[0m:\u001b[36mdb_connect\u001b[0m:\u001b[36m13\u001b[0m - \u001b[1mTentando conexão...\u001b[0m\n",
      "\u001b[32m2023-05-14 16:05:15.606\u001b[0m | \u001b[32m\u001b[1mSUCCESS \u001b[0m | \u001b[36mdb\u001b[0m:\u001b[36mdb_connect\u001b[0m:\u001b[36m22\u001b[0m - \u001b[32m\u001b[1mConectado!\u001b[0m\n",
      "\u001b[32m2023-05-14 16:05:15.607\u001b[0m | \u001b[1mINFO    \u001b[0m | \u001b[36mdb\u001b[0m:\u001b[36mget_all_data\u001b[0m:\u001b[36m67\u001b[0m - \u001b[1mBuscando dados..\u001b[0m\n",
      "c:\\users\\thiago\\documents\\projetos\\nameless\\db.py:69: UserWarning: pandas only supports SQLAlchemy connectable (engine/connection) or database string URI or sqlite3 DBAPI2 connection. Other DBAPI2 objects are not tested. Please consider using SQLAlchemy.\n",
      "  data = pd.read_sql('SELECT * FROM stackQuestions', conn)\n"
     ]
    },
    {
     "data": {
      "text/html": [
       "<div>\n",
       "<style scoped>\n",
       "    .dataframe tbody tr th:only-of-type {\n",
       "        vertical-align: middle;\n",
       "    }\n",
       "\n",
       "    .dataframe tbody tr th {\n",
       "        vertical-align: top;\n",
       "    }\n",
       "\n",
       "    .dataframe thead th {\n",
       "        text-align: right;\n",
       "    }\n",
       "</style>\n",
       "<table border=\"1\" class=\"dataframe\">\n",
       "  <thead>\n",
       "    <tr style=\"text-align: right;\">\n",
       "      <th></th>\n",
       "      <th>id</th>\n",
       "      <th>Titulo</th>\n",
       "      <th>Autor</th>\n",
       "      <th>Respostas</th>\n",
       "      <th>Votos</th>\n",
       "      <th>Visitas</th>\n",
       "      <th>Link</th>\n",
       "      <th>Tag</th>\n",
       "    </tr>\n",
       "  </thead>\n",
       "  <tbody>\n",
       "    <tr>\n",
       "      <th>0</th>\n",
       "      <td>1</td>\n",
       "      <td>Ajuda em listas para sistema de mercearia em P...</td>\n",
       "      <td>Thomás</td>\n",
       "      <td>0 respostas</td>\n",
       "      <td>-2 votos</td>\n",
       "      <td>13 visitas</td>\n",
       "      <td>https://pt.stackoverflow.com/questions/tagged/...</td>\n",
       "      <td>python</td>\n",
       "    </tr>\n",
       "    <tr>\n",
       "      <th>1</th>\n",
       "      <td>2</td>\n",
       "      <td>problema de logica com o textinput do kivy</td>\n",
       "      <td>Jonasmaxx</td>\n",
       "      <td>1 resposta</td>\n",
       "      <td>-1 votos</td>\n",
       "      <td>19 visitas</td>\n",
       "      <td>https://pt.stackoverflow.com/questions/tagged/...</td>\n",
       "      <td>python</td>\n",
       "    </tr>\n",
       "    <tr>\n",
       "      <th>2</th>\n",
       "      <td>3</td>\n",
       "      <td>Dado um array de a por n elementos, imprima o ...</td>\n",
       "      <td>Thiago Cardozo</td>\n",
       "      <td>0 respostas</td>\n",
       "      <td>-4 votos</td>\n",
       "      <td>14 visitas</td>\n",
       "      <td>https://pt.stackoverflow.com/questions/tagged/...</td>\n",
       "      <td>python</td>\n",
       "    </tr>\n",
       "    <tr>\n",
       "      <th>3</th>\n",
       "      <td>4</td>\n",
       "      <td>Formulário Flask-WTF não é submetido</td>\n",
       "      <td>Gonssalves</td>\n",
       "      <td>0 respostas</td>\n",
       "      <td>-2 votos</td>\n",
       "      <td>5 visitas</td>\n",
       "      <td>https://pt.stackoverflow.com/questions/tagged/...</td>\n",
       "      <td>python</td>\n",
       "    </tr>\n",
       "    <tr>\n",
       "      <th>4</th>\n",
       "      <td>5</td>\n",
       "      <td>Django Python - Ao salvar um registro na tabel...</td>\n",
       "      <td>Ricardo Tarozo</td>\n",
       "      <td>0 respostas</td>\n",
       "      <td>-1 votos</td>\n",
       "      <td>23 visitas</td>\n",
       "      <td>https://pt.stackoverflow.com/questions/tagged/...</td>\n",
       "      <td>python</td>\n",
       "    </tr>\n",
       "  </tbody>\n",
       "</table>\n",
       "</div>"
      ],
      "text/plain": [
       "   id                                             Titulo           Autor   \n",
       "0   1  Ajuda em listas para sistema de mercearia em P...          Thomás  \\\n",
       "1   2         problema de logica com o textinput do kivy       Jonasmaxx   \n",
       "2   3  Dado um array de a por n elementos, imprima o ...  Thiago Cardozo   \n",
       "3   4               Formulário Flask-WTF não é submetido      Gonssalves   \n",
       "4   5  Django Python - Ao salvar um registro na tabel...  Ricardo Tarozo   \n",
       "\n",
       "       Respostas       Votos       Visitas   \n",
       "0   0 respostas    -2 votos    13 visitas   \\\n",
       "1    1 resposta    -1 votos    19 visitas    \n",
       "2   0 respostas    -4 votos    14 visitas    \n",
       "3   0 respostas    -2 votos     5 visitas    \n",
       "4   0 respostas    -1 votos    23 visitas    \n",
       "\n",
       "                                                Link     Tag  \n",
       "0  https://pt.stackoverflow.com/questions/tagged/...  python  \n",
       "1  https://pt.stackoverflow.com/questions/tagged/...  python  \n",
       "2  https://pt.stackoverflow.com/questions/tagged/...  python  \n",
       "3  https://pt.stackoverflow.com/questions/tagged/...  python  \n",
       "4  https://pt.stackoverflow.com/questions/tagged/...  python  "
      ]
     },
     "execution_count": 3,
     "metadata": {},
     "output_type": "execute_result"
    }
   ],
   "source": [
    "df = get_all_data()\n",
    "df.head()"
   ]
  },
  {
   "cell_type": "code",
   "execution_count": 12,
   "metadata": {},
   "outputs": [
    {
     "name": "stdout",
     "output_type": "stream",
     "text": [
      "Dimensões(16163, 8)\n",
      "Nome das colunas ['id', 'Titulo', 'Autor', 'Respostas', 'Votos', 'Visitas', 'Link', 'Tag']\n"
     ]
    }
   ],
   "source": [
    "print(f'Dimensões{df.shape}')\n",
    "print(f'Nome das colunas {df.columns.values.tolist()}')"
   ]
  },
  {
   "cell_type": "code",
   "execution_count": 13,
   "metadata": {},
   "outputs": [
    {
     "data": {
      "text/plain": [
       "id           0\n",
       "Titulo       0\n",
       "Autor        0\n",
       "Respostas    0\n",
       "Votos        0\n",
       "Visitas      0\n",
       "Link         0\n",
       "Tag          0\n",
       "dtype: int64"
      ]
     },
     "execution_count": 13,
     "metadata": {},
     "output_type": "execute_result"
    }
   ],
   "source": [
    "df.isnull().sum()"
   ]
  },
  {
   "cell_type": "code",
   "execution_count": 27,
   "metadata": {},
   "outputs": [
    {
     "data": {
      "text/html": [
       "<div>\n",
       "<style scoped>\n",
       "    .dataframe tbody tr th:only-of-type {\n",
       "        vertical-align: middle;\n",
       "    }\n",
       "\n",
       "    .dataframe tbody tr th {\n",
       "        vertical-align: top;\n",
       "    }\n",
       "\n",
       "    .dataframe thead th {\n",
       "        text-align: right;\n",
       "    }\n",
       "</style>\n",
       "<table border=\"1\" class=\"dataframe\">\n",
       "  <thead>\n",
       "    <tr style=\"text-align: right;\">\n",
       "      <th></th>\n",
       "      <th>Tag</th>\n",
       "      <th>id</th>\n",
       "    </tr>\n",
       "  </thead>\n",
       "  <tbody>\n",
       "    <tr>\n",
       "      <th>4</th>\n",
       "      <td>javascript</td>\n",
       "      <td>6500</td>\n",
       "    </tr>\n",
       "    <tr>\n",
       "      <th>7</th>\n",
       "      <td>python</td>\n",
       "      <td>2200</td>\n",
       "    </tr>\n",
       "    <tr>\n",
       "      <th>0</th>\n",
       "      <td>c</td>\n",
       "      <td>1000</td>\n",
       "    </tr>\n",
       "    <tr>\n",
       "      <th>1</th>\n",
       "      <td>c++</td>\n",
       "      <td>1000</td>\n",
       "    </tr>\n",
       "    <tr>\n",
       "      <th>2</th>\n",
       "      <td>go</td>\n",
       "      <td>1000</td>\n",
       "    </tr>\n",
       "    <tr>\n",
       "      <th>3</th>\n",
       "      <td>java</td>\n",
       "      <td>1000</td>\n",
       "    </tr>\n",
       "    <tr>\n",
       "      <th>6</th>\n",
       "      <td>php</td>\n",
       "      <td>1000</td>\n",
       "    </tr>\n",
       "    <tr>\n",
       "      <th>11</th>\n",
       "      <td>typescript</td>\n",
       "      <td>1000</td>\n",
       "    </tr>\n",
       "    <tr>\n",
       "      <th>8</th>\n",
       "      <td>ruby</td>\n",
       "      <td>690</td>\n",
       "    </tr>\n",
       "    <tr>\n",
       "      <th>10</th>\n",
       "      <td>swift</td>\n",
       "      <td>497</td>\n",
       "    </tr>\n",
       "    <tr>\n",
       "      <th>5</th>\n",
       "      <td>kotlin</td>\n",
       "      <td>248</td>\n",
       "    </tr>\n",
       "    <tr>\n",
       "      <th>9</th>\n",
       "      <td>rust</td>\n",
       "      <td>28</td>\n",
       "    </tr>\n",
       "  </tbody>\n",
       "</table>\n",
       "</div>"
      ],
      "text/plain": [
       "           Tag    id\n",
       "4   javascript  6500\n",
       "7       python  2200\n",
       "0            c  1000\n",
       "1          c++  1000\n",
       "2           go  1000\n",
       "3         java  1000\n",
       "6          php  1000\n",
       "11  typescript  1000\n",
       "8         ruby   690\n",
       "10       swift   497\n",
       "5       kotlin   248\n",
       "9         rust    28"
      ]
     },
     "execution_count": 27,
     "metadata": {},
     "output_type": "execute_result"
    }
   ],
   "source": [
    "tag_count = df.groupby('Tag').id.count().sort_values(by='id',ascending=False).reset_index()\n",
    "tag_count"
   ]
  }
 ],
 "metadata": {
  "kernelspec": {
   "display_name": "venv",
   "language": "python",
   "name": "python3"
  },
  "language_info": {
   "codemirror_mode": {
    "name": "ipython",
    "version": 3
   },
   "file_extension": ".py",
   "mimetype": "text/x-python",
   "name": "python",
   "nbconvert_exporter": "python",
   "pygments_lexer": "ipython3",
   "version": "3.10.11"
  },
  "orig_nbformat": 4
 },
 "nbformat": 4,
 "nbformat_minor": 2
}
